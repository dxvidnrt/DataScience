{
 "cells": [
  {
   "metadata": {},
   "cell_type": "markdown",
   "source": "# Time Series Analysis",
   "id": "efb5982761a4a229"
  },
  {
   "cell_type": "code",
   "id": "initial_id",
   "metadata": {},
   "source": [
    "import pandas as pd\n",
    "import numpy as np\n",
    "import plotly.io as pio\n",
    "import plotly.express as px\n",
    "import plotly.graph_objects as go\n",
    "from plotly.subplots import make_subplots\n",
    "pio.templates.default = 'plotly_white'"
   ],
   "outputs": [],
   "execution_count": null
  },
  {
   "cell_type": "markdown",
   "id": "b801dc8cd23eb1a",
   "metadata": {},
   "source": "## a)"
  },
  {
   "cell_type": "markdown",
   "id": "2a7daa03-464b-430d-92c8-0ff0ea296a36",
   "metadata": {},
   "source": "## b)"
  },
  {
   "cell_type": "markdown",
   "id": "88caa4e1-0311-45f7-8a23-98713950b0fb",
   "metadata": {},
   "source": "## c)"
  },
  {
   "cell_type": "markdown",
   "id": "1a028f41-e708-4145-a09f-a71c536bfb4c",
   "metadata": {},
   "source": "## d)"
  },
  {
   "cell_type": "markdown",
   "id": "dd934937d3e7a378",
   "metadata": {},
   "source": "## e)"
  }
 ],
 "metadata": {
  "kernelspec": {
   "display_name": "Python 3 (ipykernel)",
   "language": "python",
   "name": "python3"
  },
  "language_info": {
   "codemirror_mode": {
    "name": "ipython",
    "version": 3
   },
   "file_extension": ".py",
   "mimetype": "text/x-python",
   "name": "python",
   "nbconvert_exporter": "python",
   "pygments_lexer": "ipython3",
   "version": "3.12.7"
  }
 },
 "nbformat": 4,
 "nbformat_minor": 5
}
