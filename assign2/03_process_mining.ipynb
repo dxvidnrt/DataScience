{
 "cells": [
  {
   "metadata": {},
   "cell_type": "markdown",
   "source": [
    "# Process Mining\n",
    "Please make sure your notebook fulfills the following requirements:\n",
    "- Commented and structured code (if not, this will be penalized in the style points)\n",
    "- Questions separated by markdown headers\n",
    "- Top-to-bottom runnable cells to reproduce your results\n",
    "- It should be runnable in the bundled conda environment.\n",
    "- Ensure that the code in the notebook runs if placed in the same folder as all of the provided\n",
    "files, delivering the same outputs as the ones you submit in the notebook and report on\n",
    "in your report.\n",
    "- DO NOT CLEAR THE OUTPUT of the notebooks you are submitting!\n",
    "\n",
    "Also, please do not set any random states in this notebook. We set the following random seeds to ensure that the results are the same."
   ],
   "id": "fbeffd6cf3f10f73"
  },
  {
   "metadata": {
    "collapsed": true
   },
   "cell_type": "code",
   "source": [
    "### Display\n",
    "from IPython.display import display\n",
    "## Data Handling\n",
    "import pandas as pd\n",
    "import pm4py\n",
    "import matplotlib.pyplot as plt\n",
    "import matplotlib.patches as mpatches\n",
    "import numpy as np\n",
    "import random"
   ],
   "id": "initial_id",
   "outputs": [],
   "execution_count": null
  },
  {
   "metadata": {},
   "cell_type": "code",
   "source": [
    "# please do not change or delete this cell\n",
    "random.seed(42)\n",
    "np.random.seed(42)"
   ],
   "id": "6efbf7168ae8680",
   "outputs": [],
   "execution_count": null
  },
  {
   "metadata": {},
   "cell_type": "markdown",
   "source": [
    "## Event Log Exploration\n",
    "You have received event data of a financing organization's process of offering loans to customers whose application of a loan was accepted. In the event log, every entry describes the state change of an offer,i.e., every entry refers to: 1) the loan application of a customer (case), 2) the state an offer was set to (activity) and 3) a timestamp. Additionally, some additional information is provided for every offer, including the offer ID.\n",
    "\n",
    "In the provided data, every case describes the process of coming to terms with the customers of accepted loan applications. Hence, every case can include the lifecycles of one or more offers, however, for every case no more than one offer is accepted.\n",
    "Use Python and PM4PY (https://processintelligence.solutions/static/api/2.7.11/) to explore the event log."
   ],
   "id": "40cdd6ca0616dfd6"
  },
  {
   "metadata": {},
   "cell_type": "code",
   "source": "# Load the event log\n",
   "id": "e52ed5940a639ced",
   "outputs": [],
   "execution_count": null
  },
  {
   "metadata": {},
   "cell_type": "markdown",
   "source": [
    "### Activities and Events\n",
    "Please leave do not change the activities in the event log -- just leave them as they are in the data. Even if you suspect multiple activity names refer to the same actual activity."
   ],
   "id": "e4952971929eb9e0"
  },
  {
   "metadata": {},
   "cell_type": "code",
   "source": "# number of events and plot showing the frequency of each activity",
   "id": "1c63e810e7daae77",
   "outputs": [],
   "execution_count": null
  },
  {
   "metadata": {},
   "cell_type": "markdown",
   "source": "### Cases and Offers",
   "id": "df09979b2ab3c5b5"
  },
  {
   "metadata": {},
   "cell_type": "code",
   "source": "# number of cases, offers and mean offers per case",
   "id": "52e8b488107d2a4b",
   "outputs": [],
   "execution_count": null
  },
  {
   "metadata": {},
   "cell_type": "markdown",
   "source": "## Process Exploration",
   "id": "4b38931f9d7a628f"
  },
  {
   "metadata": {},
   "cell_type": "markdown",
   "source": "### Start and End Activities",
   "id": "ea6349b3669573d"
  },
  {
   "metadata": {},
   "cell_type": "code",
   "source": "# start and end activities of the process",
   "id": "48fa08763d24c8a9",
   "outputs": [],
   "execution_count": null
  },
  {
   "metadata": {},
   "cell_type": "code",
   "source": "# plot of start and end activities",
   "id": "8e05f1c960734fbd",
   "outputs": [],
   "execution_count": null
  },
  {
   "metadata": {},
   "cell_type": "markdown",
   "source": "### Full Process Model",
   "id": "647a95697e6fa98b"
  },
  {
   "metadata": {},
   "cell_type": "code",
   "source": "# Process Model full log",
   "id": "44cae7463d606bce",
   "outputs": [],
   "execution_count": null
  },
  {
   "metadata": {},
   "cell_type": "markdown",
   "source": [
    "#### Model Language\n",
    "(Sensible and Nonsensical Traces)"
   ],
   "id": "f261768bbcc2f51a"
  },
  {
   "metadata": {},
   "cell_type": "code",
   "source": "# in case you want to check something here, but no code required for this part",
   "id": "c85b05a626b408a7",
   "outputs": [],
   "execution_count": null
  },
  {
   "metadata": {},
   "cell_type": "markdown",
   "source": "### Variants",
   "id": "1f9ac57006b5a506"
  },
  {
   "metadata": {},
   "cell_type": "code",
   "source": "# plot showing percentage of cases covered by number of variants",
   "id": "3ccd8ab8504c871e",
   "outputs": [],
   "execution_count": null
  },
  {
   "metadata": {},
   "cell_type": "markdown",
   "source": "minimum number of variants you need to cover 85% of cases",
   "id": "83db846629ad71a9"
  },
  {
   "metadata": {},
   "cell_type": "code",
   "source": "",
   "id": "c09830922cc8c64f",
   "outputs": [],
   "execution_count": null
  },
  {
   "metadata": {},
   "cell_type": "markdown",
   "source": "percentage of cases covered by the 2 most frequent variants",
   "id": "44d31185d82e5bc9"
  },
  {
   "metadata": {},
   "cell_type": "code",
   "source": "",
   "id": "a47d07e7dd5b18d8",
   "outputs": [],
   "execution_count": null
  },
  {
   "metadata": {},
   "cell_type": "markdown",
   "source": "number of variants representing fewer than 10 cases",
   "id": "8a86a004019eca8"
  },
  {
   "metadata": {},
   "cell_type": "code",
   "source": "",
   "id": "67a651f901b6653f",
   "outputs": [],
   "execution_count": null
  },
  {
   "metadata": {},
   "cell_type": "markdown",
   "source": "## Process Models",
   "id": "f46026b4e3e39c6c"
  },
  {
   "metadata": {},
   "cell_type": "markdown",
   "source": "### Five Most Frequent Variants",
   "id": "9462c1041288f4e2"
  },
  {
   "metadata": {},
   "cell_type": "code",
   "source": "# event log with only 5 most frequent variants",
   "id": "e14aab1088fc1fd8",
   "outputs": [],
   "execution_count": null
  },
  {
   "metadata": {},
   "cell_type": "code",
   "source": "# process model of the five most frequent variants",
   "id": "bec601d989689f1f",
   "outputs": [],
   "execution_count": null
  },
  {
   "metadata": {},
   "cell_type": "code",
   "source": "# fitness of process model",
   "id": "b8564ac7c59ff072",
   "outputs": [],
   "execution_count": null
  },
  {
   "metadata": {},
   "cell_type": "markdown",
   "source": "Model fitness per case",
   "id": "75fa8fa33e99731f"
  },
  {
   "metadata": {},
   "cell_type": "code",
   "source": [
    "# histogram of model fitness\n",
    "bins = np.arange(0, 1.02, 0.02)\n",
    "\n",
    "# add your code here"
   ],
   "id": "e04044c7bf746e71",
   "outputs": [],
   "execution_count": null
  },
  {
   "metadata": {},
   "cell_type": "markdown",
   "source": [
    "## Performance Analysis (Throughput Times)\n",
    "\n",
    "- Only consider the 35 most frequent variants\n",
    "- Throughput time of a case: case duration\n"
   ],
   "id": "70a5984941bb8522"
  },
  {
   "metadata": {},
   "cell_type": "code",
   "source": "# event log with 35 most frequent variants",
   "id": "5a9675bfe2201c73",
   "outputs": [],
   "execution_count": null
  },
  {
   "metadata": {},
   "cell_type": "code",
   "source": "# determine required information per variant (mean throughput time, number of offers)",
   "id": "29ca74f9259a61a7",
   "outputs": [],
   "execution_count": null
  },
  {
   "metadata": {},
   "cell_type": "code",
   "source": "# create bar chart with throughput time per variant.",
   "id": "f9f408a3b90e2cf9",
   "outputs": [],
   "execution_count": null
  },
  {
   "metadata": {},
   "cell_type": "markdown",
   "source": "Throughput time and number of offers",
   "id": "b30b721f86fc3740"
  },
  {
   "metadata": {},
   "cell_type": "code",
   "source": "# box plot of throughput time vs. number of offers",
   "id": "5110490bf4414a8e",
   "outputs": [],
   "execution_count": null
  }
 ],
 "metadata": {
  "kernelspec": {
   "display_name": "Python 3",
   "language": "python",
   "name": "python3"
  },
  "language_info": {
   "codemirror_mode": {
    "name": "ipython",
    "version": 2
   },
   "file_extension": ".py",
   "mimetype": "text/x-python",
   "name": "python",
   "nbconvert_exporter": "python",
   "pygments_lexer": "ipython2",
   "version": "2.7.6"
  }
 },
 "nbformat": 4,
 "nbformat_minor": 5
}
