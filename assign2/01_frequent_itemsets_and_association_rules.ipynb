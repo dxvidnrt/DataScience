{
 "cells": [
  {
   "metadata": {},
   "cell_type": "markdown",
   "source": "# Frequent Itemsets and Association Rules",
   "id": "2ebbb463cc244d62"
  },
  {
   "metadata": {},
   "cell_type": "code",
   "source": [
    "import pandas as pd\n",
    "import matplotlib.pyplot as plt\n",
    "from mlxtend.frequent_patterns import fpgrowth, fpmax, association_rules"
   ],
   "id": "f1c6f7ac565b7afd",
   "outputs": [],
   "execution_count": null
  },
  {
   "metadata": {},
   "cell_type": "markdown",
   "source": "## (a)",
   "id": "c5f237050b86420a"
  },
  {
   "metadata": {},
   "cell_type": "code",
   "source": [
    "data = pd.read_csv('./frequent_itemsets_and_association_rules/online_retail.csv', sep=';', decimal=',')\n",
    "display(data.head())\n",
    "display(data.info())"
   ],
   "id": "89dd58c8656cb086",
   "outputs": [],
   "execution_count": null
  },
  {
   "metadata": {},
   "cell_type": "code",
   "outputs": [],
   "execution_count": null,
   "source": "# Your code here",
   "id": "206cd295611b7717"
  },
  {
   "metadata": {},
   "cell_type": "markdown",
   "source": "## (b)",
   "id": "65f7fdaa88642bd"
  },
  {
   "metadata": {},
   "cell_type": "code",
   "source": [
    "# Create a transaction for each BillNo\n",
    "transactions = data.groupby(['BillNo', 'Itemname'])['Quantity'].sum().unstack().fillna(0).astype(bool)\n",
    "transaction_attributes = data.groupby('BillNo')[['Date', 'CustomerID', 'Country']].first()\n",
    "display(transactions.head())\n",
    "display(transaction_attributes.head())\n",
    "n_transactions = transactions.shape[0]"
   ],
   "id": "f926ddb66373e95f",
   "outputs": [],
   "execution_count": null
  },
  {
   "metadata": {},
   "cell_type": "code",
   "source": "# Your code here",
   "id": "2a3d95973d874959",
   "outputs": [],
   "execution_count": null
  },
  {
   "metadata": {},
   "cell_type": "markdown",
   "source": "## (c)",
   "id": "ec80188e3034ede9"
  },
  {
   "metadata": {},
   "cell_type": "markdown",
   "source": "## (d)",
   "id": "25324e6db04cd518"
  },
  {
   "metadata": {},
   "cell_type": "code",
   "source": "# Your code here",
   "id": "1efff523b039c0e",
   "outputs": [],
   "execution_count": null
  },
  {
   "metadata": {},
   "cell_type": "markdown",
   "source": "## (e)",
   "id": "c9b61e4d96a6d6e4"
  },
  {
   "metadata": {},
   "cell_type": "code",
   "source": "# Your code here",
   "id": "8a0e5b61c2bd0aed",
   "outputs": [],
   "execution_count": null
  },
  {
   "metadata": {},
   "cell_type": "markdown",
   "source": "## (f)",
   "id": "3bbb3648806fbd27"
  },
  {
   "metadata": {},
   "cell_type": "code",
   "source": "# Your code here",
   "id": "a93a7b8b8b08afa3",
   "outputs": [],
   "execution_count": null
  },
  {
   "metadata": {},
   "cell_type": "markdown",
   "source": "## (g)",
   "id": "7cfdc0d54189990e"
  },
  {
   "metadata": {},
   "cell_type": "code",
   "source": "# Your code here",
   "id": "86ae23211f27f3e4",
   "outputs": [],
   "execution_count": null
  },
  {
   "metadata": {},
   "cell_type": "markdown",
   "source": "## (h)",
   "id": "ffc497748b110843"
  },
  {
   "metadata": {},
   "cell_type": "code",
   "source": "# Your code here",
   "id": "c3acb4900915d24a",
   "outputs": [],
   "execution_count": null
  },
  {
   "metadata": {},
   "cell_type": "markdown",
   "source": "## (i)",
   "id": "85781e1c33b1bdda"
  },
  {
   "metadata": {},
   "cell_type": "code",
   "source": "# Your code here",
   "id": "19afaebd7c12229a",
   "outputs": [],
   "execution_count": null
  },
  {
   "metadata": {},
   "cell_type": "markdown",
   "source": "## (j)",
   "id": "dc3e0d5d1ed1ba2d"
  },
  {
   "metadata": {},
   "cell_type": "code",
   "source": "# Your code here",
   "id": "30974ae37ed3c27e",
   "outputs": [],
   "execution_count": null
  }
 ],
 "metadata": {
  "kernelspec": {
   "display_name": "Python 3",
   "language": "python",
   "name": "python3"
  },
  "language_info": {
   "codemirror_mode": {
    "name": "ipython",
    "version": 2
   },
   "file_extension": ".py",
   "mimetype": "text/x-python",
   "name": "python",
   "nbconvert_exporter": "python",
   "pygments_lexer": "ipython2",
   "version": "2.7.6"
  }
 },
 "nbformat": 4,
 "nbformat_minor": 5
}
