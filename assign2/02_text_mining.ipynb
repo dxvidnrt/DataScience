{
 "cells": [
  {
   "cell_type": "markdown",
   "id": "0d487223-5415-47c9-8034-4ac6668dd837",
   "metadata": {
    "nbgrader": {
     "grade": false,
     "grade_id": "cell-0118f620e3b16e5e",
     "locked": true,
     "schema_version": 3,
     "solution": false,
     "task": false
    },
    "slideshow": {
     "slide_type": ""
    },
    "tags": []
   },
   "source": [
    "# Text Mining\n"
   ]
  },
  {
   "cell_type": "code",
   "execution_count": 2,
   "id": "30acff93-801f-434f-ab12-538ebba149c7",
   "metadata": {
    "nbgrader": {
     "grade": false,
     "grade_id": "cell-34ae91f58bb3ca62",
     "locked": true,
     "schema_version": 3,
     "solution": false,
     "task": false
    },
    "slideshow": {
     "slide_type": ""
    },
    "tags": []
   },
   "outputs": [
    {
     "name": "stderr",
     "output_type": "stream",
     "text": [
      "[nltk_data] Downloading package stopwords to\n",
      "[nltk_data]     C:\\Users\\David\\AppData\\Roaming\\nltk_data...\n",
      "[nltk_data]   Package stopwords is already up-to-date!\n",
      "[nltk_data] Downloading package punkt to\n",
      "[nltk_data]     C:\\Users\\David\\AppData\\Roaming\\nltk_data...\n",
      "[nltk_data]   Package punkt is already up-to-date!\n",
      "[nltk_data] Downloading package wordnet to\n",
      "[nltk_data]     C:\\Users\\David\\AppData\\Roaming\\nltk_data...\n",
      "[nltk_data]   Package wordnet is already up-to-date!\n",
      "[nltk_data] Downloading package omw-1.4 to\n",
      "[nltk_data]     C:\\Users\\David\\AppData\\Roaming\\nltk_data...\n",
      "[nltk_data]   Package omw-1.4 is already up-to-date!\n"
     ]
    }
   ],
   "source": [
    "import multiprocessing\n",
    "\n",
    "import nltk\n",
    "import pandas as pd\n",
    "import seaborn as sns\n",
    "import matplotlib.pyplot as plt \n",
    "import numpy as np\n",
    "from gensim.models import Word2Vec\n",
    "from nltk.corpus import stopwords\n",
    "from nltk.lm import MLE\n",
    "from nltk.lm.preprocessing import padded_everygram_pipeline\n",
    "from nltk.stem import WordNetLemmatizer\n",
    "from sklearn.feature_extraction.text import CountVectorizer\n",
    "from sklearn.linear_model import SGDClassifier\n",
    "from sklearn.metrics import accuracy_score\n",
    "from sklearn.model_selection import train_test_split\n",
    "\n",
    "nltk.download('stopwords')\n",
    "nltk.download('punkt')\n",
    "nltk.download('wordnet')\n",
    "nltk.download('omw-1.4')  # omw = open multilingual wordnet\n",
    "stopword_list = set(stopwords.words('english'))\n",
    "reg_tokenizer = nltk.RegexpTokenizer(r\"\\w+\")  # tokenizes and removes punctuation at the same time\n",
    "wordnet_lemmatizer = WordNetLemmatizer();"
   ]
  },
  {
   "cell_type": "markdown",
   "id": "4a4d140f-e798-48c1-8adf-c4c483ee63a3",
   "metadata": {
    "nbgrader": {
     "grade": false,
     "grade_id": "cell-a7e968abe2c820c6",
     "locked": true,
     "schema_version": 3,
     "solution": false,
     "task": false
    }
   },
   "source": [
    "## Data Loading and Preprocessing"
   ]
  },
  {
   "cell_type": "markdown",
   "id": "3e6ce656",
   "metadata": {},
   "source": [
    "## (a)"
   ]
  },
  {
   "cell_type": "code",
   "execution_count": 3,
   "id": "fb9627db",
   "metadata": {},
   "outputs": [
    {
     "data": {
      "text/html": [
       "<div>\n",
       "<style scoped>\n",
       "    .dataframe tbody tr th:only-of-type {\n",
       "        vertical-align: middle;\n",
       "    }\n",
       "\n",
       "    .dataframe tbody tr th {\n",
       "        vertical-align: top;\n",
       "    }\n",
       "\n",
       "    .dataframe thead th {\n",
       "        text-align: right;\n",
       "    }\n",
       "</style>\n",
       "<table border=\"1\" class=\"dataframe\">\n",
       "  <thead>\n",
       "    <tr style=\"text-align: right;\">\n",
       "      <th></th>\n",
       "      <th>text</th>\n",
       "      <th>label</th>\n",
       "    </tr>\n",
       "  </thead>\n",
       "  <tbody>\n",
       "    <tr>\n",
       "      <th>0</th>\n",
       "      <td>i would think that whomever would be lucky eno...</td>\n",
       "      <td>Love</td>\n",
       "    </tr>\n",
       "    <tr>\n",
       "      <th>1</th>\n",
       "      <td>i fear that they won t ever feel that deliciou...</td>\n",
       "      <td>Joy</td>\n",
       "    </tr>\n",
       "    <tr>\n",
       "      <th>2</th>\n",
       "      <td>im forever taking some time out to have a lie ...</td>\n",
       "      <td>Surprise</td>\n",
       "    </tr>\n",
       "    <tr>\n",
       "      <th>3</th>\n",
       "      <td>i try to be nice though so if you get a bitchy...</td>\n",
       "      <td>Joy</td>\n",
       "    </tr>\n",
       "    <tr>\n",
       "      <th>4</th>\n",
       "      <td>i have officially graduated im not feeling as ...</td>\n",
       "      <td>Joy</td>\n",
       "    </tr>\n",
       "  </tbody>\n",
       "</table>\n",
       "</div>"
      ],
      "text/plain": [
       "                                                text     label\n",
       "0  i would think that whomever would be lucky eno...      Love\n",
       "1  i fear that they won t ever feel that deliciou...       Joy\n",
       "2  im forever taking some time out to have a lie ...  Surprise\n",
       "3  i try to be nice though so if you get a bitchy...       Joy\n",
       "4  i have officially graduated im not feeling as ...       Joy"
      ]
     },
     "metadata": {},
     "output_type": "display_data"
    },
    {
     "data": {
      "text/html": [
       "<div>\n",
       "<style scoped>\n",
       "    .dataframe tbody tr th:only-of-type {\n",
       "        vertical-align: middle;\n",
       "    }\n",
       "\n",
       "    .dataframe tbody tr th {\n",
       "        vertical-align: top;\n",
       "    }\n",
       "\n",
       "    .dataframe thead th {\n",
       "        text-align: right;\n",
       "    }\n",
       "</style>\n",
       "<table border=\"1\" class=\"dataframe\">\n",
       "  <thead>\n",
       "    <tr style=\"text-align: right;\">\n",
       "      <th></th>\n",
       "      <th>text</th>\n",
       "      <th>label</th>\n",
       "    </tr>\n",
       "  </thead>\n",
       "  <tbody>\n",
       "    <tr>\n",
       "      <th>count</th>\n",
       "      <td>247910</td>\n",
       "      <td>247910</td>\n",
       "    </tr>\n",
       "    <tr>\n",
       "      <th>unique</th>\n",
       "      <td>236060</td>\n",
       "      <td>4</td>\n",
       "    </tr>\n",
       "    <tr>\n",
       "      <th>top</th>\n",
       "      <td>i feel more adventurous willing to take risks</td>\n",
       "      <td>Joy</td>\n",
       "    </tr>\n",
       "    <tr>\n",
       "      <th>freq</th>\n",
       "      <td>16</td>\n",
       "      <td>141067</td>\n",
       "    </tr>\n",
       "  </tbody>\n",
       "</table>\n",
       "</div>"
      ],
      "text/plain": [
       "                                                 text   label\n",
       "count                                          247910  247910\n",
       "unique                                         236060       4\n",
       "top     i feel more adventurous willing to take risks     Joy\n",
       "freq                                               16  141067"
      ]
     },
     "metadata": {},
     "output_type": "display_data"
    },
    {
     "data": {
      "text/plain": [
       "<Axes: xlabel='label', ylabel='count'>"
      ]
     },
     "execution_count": 3,
     "metadata": {},
     "output_type": "execute_result"
    },
    {
     "data": {
      "image/png": "[encoded data removed]",
      "text/plain": [
       "<Figure size 1000x800 with 1 Axes>"
      ]
     },
     "metadata": {},
     "output_type": "display_data"
    }
   ],
   "source": [
    "df = pd.read_csv(\"text_mining/emotions.csv\")\n",
    "\n",
    "display(df.head())\n",
    "display(df.describe())\n",
    "plt.figure(figsize=(10,8))\n",
    "sns.countplot(x=\"label\", data=df)"
   ]
  },
  {
   "cell_type": "markdown",
   "id": "acada90a",
   "metadata": {},
   "source": [
    "## (b)"
   ]
  },
  {
   "cell_type": "code",
   "execution_count": 4,
   "id": "cd6dc5d6",
   "metadata": {},
   "outputs": [
    {
     "name": "stdout",
     "output_type": "stream",
     "text": [
      "(59888, 2)\n"
     ]
    },
    {
     "data": {
      "text/html": [
       "<div>\n",
       "<style scoped>\n",
       "    .dataframe tbody tr th:only-of-type {\n",
       "        vertical-align: middle;\n",
       "    }\n",
       "\n",
       "    .dataframe tbody tr th {\n",
       "        vertical-align: top;\n",
       "    }\n",
       "\n",
       "    .dataframe thead th {\n",
       "        text-align: right;\n",
       "    }\n",
       "</style>\n",
       "<table border=\"1\" class=\"dataframe\">\n",
       "  <thead>\n",
       "    <tr style=\"text-align: right;\">\n",
       "      <th></th>\n",
       "      <th>text</th>\n",
       "      <th>label</th>\n",
       "    </tr>\n",
       "  </thead>\n",
       "  <tbody>\n",
       "    <tr>\n",
       "      <th>0</th>\n",
       "      <td>i feel like a jerk because the library student...</td>\n",
       "      <td>Anger</td>\n",
       "    </tr>\n",
       "    <tr>\n",
       "      <th>1</th>\n",
       "      <td>i miss all the others as well that feel that i...</td>\n",
       "      <td>Anger</td>\n",
       "    </tr>\n",
       "    <tr>\n",
       "      <th>2</th>\n",
       "      <td>i saunter through the airport terminals feelin...</td>\n",
       "      <td>Anger</td>\n",
       "    </tr>\n",
       "    <tr>\n",
       "      <th>3</th>\n",
       "      <td>i need to feel dangerous and pretty so here a ...</td>\n",
       "      <td>Anger</td>\n",
       "    </tr>\n",
       "    <tr>\n",
       "      <th>4</th>\n",
       "      <td>when</td>\n",
       "      <td>Anger</td>\n",
       "    </tr>\n",
       "  </tbody>\n",
       "</table>\n",
       "</div>"
      ],
      "text/plain": [
       "                                                text  label\n",
       "0  i feel like a jerk because the library student...  Anger\n",
       "1  i miss all the others as well that feel that i...  Anger\n",
       "2  i saunter through the airport terminals feelin...  Anger\n",
       "3  i need to feel dangerous and pretty so here a ...  Anger\n",
       "4                                               when  Anger"
      ]
     },
     "metadata": {},
     "output_type": "display_data"
    },
    {
     "data": {
      "image/png": "[encoded data removed]",
      "text/plain": [
       "<Figure size 640x480 with 1 Axes>"
      ]
     },
     "metadata": {},
     "output_type": "display_data"
    }
   ],
   "source": [
    "# under sampling by taking the k first entrys from each \n",
    "\n",
    "labels = df[\"label\"].unique()\n",
    "min_label = min([len(df[df[\"label\"]==label]) for label in labels])\n",
    "#instantiate df for concat\n",
    "df_balanced = pd.DataFrame([],columns=[\"text\",\"label\"])\n",
    "\n",
    "for label in labels:\n",
    "    df_balanced = pd.concat([df[df[\"label\"] == label][:min_label],df_balanced],ignore_index=True)\n",
    "\n",
    "\n",
    "print(np.shape(df_balanced))\n",
    "display(df_balanced.head())\n",
    "# verification\n",
    "sns.countplot(x=\"label\", data=df_balanced)\n",
    "df = df_balanced\n"
   ]
  },
  {
   "cell_type": "markdown",
   "id": "bb73a8e9-a314-46eb-acd4-54aba9033610",
   "metadata": {},
   "source": [
    "## (c)"
   ]
  },
  {
   "cell_type": "code",
   "execution_count": 5,
   "id": "1eb409ed",
   "metadata": {},
   "outputs": [
    {
     "name": "stdout",
     "output_type": "stream",
     "text": [
      "Number of tokens before processing: 1187786\n",
      "Number of tokens after processing: 575839\n",
      "Difference in tokens after processing: 611947\n"
     ]
    }
   ],
   "source": [
    "def preprocessing(df: pd.DataFrame)-> list:\n",
    "    corpus = df[\"text\"]\n",
    "    doc_list =[]\n",
    "    for i in range(len(corpus)):\n",
    "        text = corpus[i]\n",
    "        tokenized = reg_tokenizer.tokenize(text)\n",
    "        filtered = [word.lower() for word in tokenized if word.lower() not in stopword_list]\n",
    "        # print(len(text)-len(filtered))\n",
    "        lemmatized  = [wordnet_lemmatizer.lemmatize(word) for word in filtered]\n",
    "        doc = \" \".join(lemmatized)\n",
    "        doc_list.append(doc)\n",
    "    df_out = pd.DataFrame({\"document\":doc_list,\"label\": list(df[\"label\"])})\n",
    "    return df_out\n",
    "# calc the difference in length for between un-/preprocessed\n",
    "def count_tokens(documents) -> int:\n",
    "    return documents.apply(lambda text: len(text.split(\" \"))).sum()\n",
    "\n",
    "processed_df = preprocessing(df)\n",
    "count_before = count_tokens(df[\"text\"])\n",
    "count_after = count_tokens(processed_df[\"document\"])\n",
    "print(f\"Number of tokens before processing: {count_before}\")\n",
    "print(f\"Number of tokens after processing: {count_after}\")\n",
    "print(f\"Difference in tokens after processing: {count_before - count_after}\")\n"
   ]
  },
  {
   "cell_type": "code",
   "execution_count": 6,
   "id": "e64674c9-3df8-4de9-b9c8-12ffeeaedbc3",
   "metadata": {},
   "outputs": [
    {
     "name": "stdout",
     "output_type": "stream",
     "text": [
      "my parents came to visit me\n",
      "ill state that i am angry at myself for feeling so out of control and so hostile\n",
      "i feel calm complete and whole after i meditate\n",
      "i feel blessed each day with what i have been given and i understand that these are first world problems i have a roof over my head ample food and freedom and yet\n",
      "i feel like a loser because all the guys i have liked so far aren t ready for a relationship what do i do\n",
      "i had a funny feeling when i accepted them\n"
     ]
    }
   ],
   "source": [
    "def split_data(df: pd.DataFrame):\n",
    "    return train_test_split(df, random_state=12345, train_size=0.8, stratify=df['label'])\n",
    "\n",
    "train, test = split_data(df)\n",
    "for data in (train, test):\n",
    "    for i in range(3):\n",
    "        print(data.iloc[i][\"text\"])"
   ]
  },
  {
   "cell_type": "markdown",
   "id": "295189e5d2ef5b15",
   "metadata": {},
   "source": [
    "## Bag-of-Words"
   ]
  },
  {
   "cell_type": "code",
   "execution_count": 7,
   "id": "d72a97bc-c468-48c8-a95d-dd8ccd0edc6b",
   "metadata": {},
   "outputs": [
    {
     "name": "stdout",
     "output_type": "stream",
     "text": [
      "Training accuracy: 0.967\n",
      "Test accuracy: 0.953\n"
     ]
    }
   ],
   "source": [
    "def preprocess_classifier(df: pd.DataFrame):\n",
    "    processed_df = preprocessing(df)\n",
    "    train, test = split_data(processed_df)\n",
    "    vectorizer = CountVectorizer()\n",
    "    X_train = vectorizer.fit_transform(train['document'])\n",
    "    y_train = train[\"label\"]\n",
    "    X_test = vectorizer.transform(test['document'])\n",
    "    y_test = test[\"label\"]\n",
    "    return X_train, y_train, X_test, y_test, vectorizer\n",
    "\n",
    "X_train, y_train, X_test, y_test, vectorizer = preprocess_classifier(df)\n",
    "\n",
    "def train_classifier(X_train, y_train):\n",
    "    sgd = SGDClassifier(loss='log_loss', random_state=12345)\n",
    "    sgd.fit(X_train, y_train)\n",
    "\n",
    "    return sgd\n",
    "\n",
    "classifier = train_classifier(X_train, y_train)\n",
    "\n",
    "def accuracy_classifier(sgd, X_train, y_train, X_test, y_test):\n",
    "    #Accuracy on train data:\n",
    "    train_pred = sgd.predict(X_train)\n",
    "    acc_train = accuracy_score(y_train, train_pred)\n",
    "    print(f\"Training accuracy: {acc_train:.3f}\")\n",
    "    #Accuracy on test data:\n",
    "    test_pred = sgd.predict(X_test)\n",
    "    acc_test = accuracy_score(y_test, test_pred)\n",
    "    print(f\"Test accuracy: {acc_test:.3f}\")\n",
    "\n",
    "accuracy_classifier(classifier, X_train, y_train, X_test, y_test)"
   ]
  },
  {
   "cell_type": "markdown",
   "id": "e6446b0893028bdc",
   "metadata": {},
   "source": [
    "## N-Grams"
   ]
  },
  {
   "cell_type": "code",
   "execution_count": 8,
   "id": "72d91889-a0fe-4b58-8d82-4b38fd5bda20",
   "metadata": {},
   "outputs": [],
   "source": [
    "corpus = df[\"text\"]\n",
    "tokenized_corpus = [reg_tokenizer.tokenize(sentence.lower()) for sentence in corpus]"
   ]
  },
  {
   "cell_type": "code",
   "execution_count": 11,
   "id": "fd971eef-9e9a-46bf-b4ae-976549c22f08",
   "metadata": {},
   "outputs": [
    {
     "name": "stdout",
     "output_type": "stream",
     "text": [
      "2-gram output:\n",
      "\n",
      "Document: im heading to have fond of my victim i feel you have a pretty pleased with excitement but since i want to be surprised when a sincere in the only indirectl\n",
      "Prediction: ['Surprise']\n"
     ]
    },
    {
     "data": {
      "image/png": "[encoded data removed]",
      "text/plain": [
       "<Figure size 800x600 with 1 Axes>"
      ]
     },
     "metadata": {},
     "output_type": "display_data"
    },
    {
     "name": "stdout",
     "output_type": "stream",
     "text": [
      "5-gram output:\n",
      "\n",
      "Document: i just want to do everything i can to make you happy healthy feel loved and safe and cared for with my whole heart\n",
      "Prediction: ['Love']\n"
     ]
    },
    {
     "data": {
      "image/png": "[encoded data removed]",
      "text/plain": [
       "<Figure size 800x600 with 1 Axes>"
      ]
     },
     "metadata": {},
     "output_type": "display_data"
    }
   ],
   "source": [
    "\n",
    "\n",
    "def train_MLE(corpus, n):\n",
    "    \n",
    "    train_data, vocab = padded_everygram_pipeline(n, corpus)\n",
    "\n",
    "    mle_model = MLE(n)\n",
    "    mle_model.fit(train_data, vocab)\n",
    "    return mle_model\n",
    "\n",
    "def generate_text(model, num_words, start_with=None):\n",
    "    text = []\n",
    "    context = start_with if start_with else [\"<s>\"]*(model.order -1)\n",
    "    for _ in range(num_words):\n",
    "        next_word = model.generate(1, text_seed=context)\n",
    "        if next_word == \"</s>\":\n",
    "            break\n",
    "        text.append(next_word)\n",
    "        context = context[1:] + [next_word]\n",
    "    return \" \".join(text)\n",
    "\n",
    "for i in [2, 5]:\n",
    "    model = train_MLE(tokenized_corpus, i)\n",
    "        \n",
    "    text_output = generate_text(model, 50)\n",
    "    text_vectorized = vectorizer.transform([text_output])\n",
    "    prediction = classifier.predict(text_vectorized)\n",
    "\n",
    "    print(f\"{i}-gram output:\\n\")    \n",
    "    print(f\"Document: {text_output}\")\n",
    "    print(f\"Prediction: {prediction}\")\n",
    "    \n",
    "    # 1000 documents\n",
    "    number_docs = 1000\n",
    "    generated_df = pd.DataFrame(columns=[\"text\", \"label\"])\n",
    "    for _ in range(number_docs):\n",
    "        doc = generate_text(model, 50)\n",
    "        text_vectorized = vectorizer.transform([doc])\n",
    "        prediction = classifier.predict(text_vectorized)\n",
    "        new_row = pd.DataFrame({\"text\": doc, \"label\": prediction})\n",
    "        generated_df = pd.concat([generated_df, new_row])\n",
    "\n",
    "    plt.figure(figsize=(8, 6))\n",
    "    sns.countplot(x=\"label\", data=generated_df)\n",
    "    plt.title(f\"Sentiment Distribution for {i}-gram Model\")\n",
    "    plt.xlabel('Sentiment')\n",
    "    plt.ylabel('Frequency')\n",
    "    plt.show()"
   ]
  },
  {
   "cell_type": "code",
   "execution_count": 12,
   "id": "c1f05743-867d-467c-b0cd-8936cebb3bd7",
   "metadata": {
    "scrolled": true
   },
   "outputs": [
    {
     "data": {
      "image/png": "[encoded data removed]",
      "text/plain": [
       "<Figure size 800x600 with 1 Axes>"
      ]
     },
     "metadata": {},
     "output_type": "display_data"
    }
   ],
   "source": [
    "classifier\n",
    "\n",
    "plt.figure(figsize=(8, 6))\n",
    "sns.countplot(x=\"label\", data=df)\n",
    "plt.title(f\"Distribution of input data\")\n",
    "plt.xlabel('Sentiment')\n",
    "plt.ylabel('Frequency')\n",
    "plt.show()"
   ]
  },
  {
   "cell_type": "code",
   "execution_count": 9,
   "id": "0c2237ff-d447-419e-8427-ac531c9a7427",
   "metadata": {},
   "outputs": [
    {
     "name": "stdout",
     "output_type": "stream",
     "text": [
      "The distribution of the texts generated by the 5-gram model seem more balanced.\n",
      "A higher n means, that the text generated uses more context and therefore is more similar to the provided input data. The 5-gram model is more balanced as the balanced input data implies.\n",
      "It is interesting that the 2-gram seems to convey the previous 'eliminated' bias. This may be due to local patterns between tokens that were not removed.\n"
     ]
    }
   ],
   "source": [
    "# (g)\n",
    "# Which distribution seems to be more balanced?\n",
    "print(\"The distribution of the texts generated by the 5-gram model seem more balanced.\")\n",
    "# Why does n infleunce the distribution?\n",
    "print(\"A higher n means, that the text generated uses more context and therefore is more similar to the provided input data. The 5-gram model is more balanced as the balanced input data implies.\\nIt is interesting that the 2-gram seems to convey the previous 'eliminated' bias. This may be due to local patterns between tokens that were not removed.\")"
   ]
  },
  {
   "cell_type": "markdown",
   "id": "76afd514204ff196",
   "metadata": {},
   "source": [
    "## Word2Vec"
   ]
  },
  {
   "cell_type": "code",
   "execution_count": 10,
   "id": "930f2d50-306f-4768-b1ce-c259c94cc12a",
   "metadata": {
    "editable": true,
    "slideshow": {
     "slide_type": ""
    },
    "tags": []
   },
   "outputs": [
    {
     "name": "stdout",
     "output_type": "stream",
     "text": [
      "[ 0.16799831 -0.30248567  0.6052797  -0.26291886  0.31209213  1.0652536\n",
      " -0.00326563  0.5384331  -0.33353287 -0.579774   -0.17459035  0.18938932\n",
      " -0.27741784 -0.36188114 -0.8864588   0.7072021   0.42068863  0.98693836\n",
      " -0.6292437  -0.07630281  0.02646835  0.4586245   0.17464136  0.19724233\n",
      "  0.44269168]\n"
     ]
    }
   ],
   "source": [
    "workers = 1\n",
    "word_2_vec_model = Word2Vec(sentences = tokenized_corpus, window = 5, min_count = 3, vector_size = 25, epochs = 50, sg = 1, workers = workers)"
   ]
  },
  {
   "cell_type": "code",
   "execution_count": 24,
   "id": "ff6fe1f0-a4a6-4405-b2a3-15c0620d295d",
   "metadata": {},
   "outputs": [
    {
     "name": "stdout",
     "output_type": "stream",
     "text": [
      "Most Similar Words to 'christmas':\n",
      "holiday: 0.867\n",
      "thanksgiving: 0.866\n",
      "halloween: 0.839\n",
      "The 3 most dissimilar words to 'christmas' are:\n",
      "\n",
      "harshly: -0.304\n",
      "accusing: -0.281\n",
      "wolf: -0.260\n"
     ]
    }
   ],
   "source": [
    "vector_christmas = word_2_vec_model.wv['christmas']\n",
    "\n",
    "if 'christmas' in word_2_vec_model.wv:\n",
    "    # Find top 3 most similar words\n",
    "    most_similar = word_2_vec_model.wv.most_similar('christmas', topn=3)\n",
    "    print(\"Most Similar Words to 'christmas':\")\n",
    "    for word, similarity in most_similar:\n",
    "        print(f\"{word}: {similarity:.3f}\")\n",
    "\n",
    "# Find the top 3 most disimilar words\n",
    "keys = word_2_vec_model.wv.index_to_key\n",
    "least_sim = []\n",
    "for key in keys:\n",
    "    cos_sim = word_2_vec_model.wv.similarity('christmas', key)\n",
    "    info = (key, cos_sim)\n",
    "    least_sim.append(info)\n",
    "    if len(least_sim) > 3:\n",
    "        least_sim.sort(key=lambda x: x[1])\n",
    "        least_sim.pop()\n",
    "print(\"The 3 most dissimilar words to 'christmas' are:\\n\")\n",
    "for word, similarity in least_sim:\n",
    "        print(f\"{word}: {similarity:.3f}\") \n",
    "# Can be solved easilier by using most_similar(negative=['christmas'])"
   ]
  },
  {
   "cell_type": "markdown",
   "id": "36ed742c-5ec2-44c3-8acb-e6d98602a72e",
   "metadata": {},
   "source": [
    "## (j)"
   ]
  },
  {
   "cell_type": "code",
   "execution_count": null,
   "id": "c64abf19-3e9f-4e55-8672-cbd2bd336469",
   "metadata": {},
   "outputs": [],
   "source": [
    "# The most similar word to chrismas has a similar vector (meaning they have a cos close to 1).\n",
    "# This means that a dissimilar word to christmas (that has a cos closer to -1) also has a cosinus close to -1 with a vector similar to christmas.\n",
    "# Therefore a similar vector to x is also dissimilar to a vector y that is dissimilar to x."
   ]
  },
  {
   "cell_type": "markdown",
   "id": "16f46904-0c12-46e6-9327-fe1e3751cc98",
   "metadata": {},
   "source": [
    "## (k)"
   ]
  },
  {
   "cell_type": "code",
   "execution_count": 34,
   "id": "5714a0d3-b0e1-42fd-ac91-e7492222ec0c",
   "metadata": {},
   "outputs": [
    {
     "name": "stdout",
     "output_type": "stream",
     "text": [
      "Emotions related to christmas:\n",
      "\n",
      "[('thankfulness', 0.8362123370170593), ('lows', 0.8311241269111633), ('memories', 0.7954427599906921)]\n",
      "Emotions unrelated to christmas:\n",
      "\n",
      "[('anger', 0.7128562927246094), ('hatred', 0.7112752199172974), ('feelings', 0.7108699679374695)]\n"
     ]
    }
   ],
   "source": [
    "print(\"Emotions related to christmas:\\n\")\n",
    "print(word_2_vec_model.wv.most_similar(positive=['emotions', 'christmas'], negative=[], topn = 3))\n",
    "print(\"Emotions unrelated to christmas:\\n\")\n",
    "print(word_2_vec_model.wv.most_similar(positive=['emotions'], negative=['christmas'], topn = 3))"
   ]
  },
  {
   "cell_type": "code",
   "execution_count": 35,
   "id": "dbdf634c-6169-4243-b9bf-fe3836514a5c",
   "metadata": {},
   "outputs": [],
   "source": [
    "# Finding words that are emotions on chrismas are similar to emotions and christmas, therefore they are positive.\n",
    "# Finding words that are emotions and most unrelated to christmas are similar to emotions and dissimilar to christmas, therefore emotions are positive and christmas is negative.\n",
    "\n",
    "# the most_similar() function creates a mean of all vectors, where negative vectors are flipped around (or subtracted). Then it searches to vectors, most similar to this median vector.\n",
    "# By flipping the negative vectors, they contribute negatively to the result, finding dissimilar keys."
   ]
  },
  {
   "cell_type": "code",
   "execution_count": null,
   "id": "21b1ea9e-dbfc-4ad6-ac2d-0b340bdeb839",
   "metadata": {},
   "outputs": [],
   "source": []
  }
 ],
 "metadata": {
  "kernelspec": {
   "display_name": "Python 3 (ipykernel)",
   "language": "python",
   "name": "python3"
  },
  "language_info": {
   "codemirror_mode": {
    "name": "ipython",
    "version": 3
   },
   "file_extension": ".py",
   "mimetype": "text/x-python",
   "name": "python",
   "nbconvert_exporter": "python",
   "pygments_lexer": "ipython3",
   "version": "3.12.8"
  }
 },
 "nbformat": 4,
 "nbformat_minor": 5
}
