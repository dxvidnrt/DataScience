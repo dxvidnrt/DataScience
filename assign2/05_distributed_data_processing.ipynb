{
 "cells": [
  {
   "cell_type": "markdown",
   "id": "8ada8a3e28064642",
   "metadata": {},
   "source": [
    "# Distributed Data Processing -- Map Reduce"
   ]
  },
  {
   "cell_type": "markdown",
   "id": "f73a053170571c50",
   "metadata": {},
   "source": [
    "This scaffolding allows you to test your MR jobs that you've implemented for a) in `distributed_data_processing/best_movies.py` and for b) in `distributed_data_processing/haters.py`."
   ]
  },
  {
   "cell_type": "markdown",
   "id": "449d133fa3b8a59a",
   "metadata": {},
   "source": [
    "## a)"
   ]
  },
  {
   "cell_type": "code",
   "execution_count": null,
   "id": "d194a459d91b017c",
   "metadata": {},
   "outputs": [],
   "source": [
    "from distributed_data_processing.best_movies import BestMovies\n",
    "\n",
    "best_movies = BestMovies(args=['-r', 'inline', 'distributed_data_processing/ratings.csv', '-o', 'distributed_data_processing/top'])\n",
    "with best_movies.make_runner() as runner:\n",
    "    runner.run()\n",
    "    # print first ten results\n",
    "    for i, (key, value) in zip(range(10), best_movies.parse_output(runner.cat_output())):\n",
    "        print(i, key, value)"
   ]
  },
  {
   "cell_type": "markdown",
   "id": "d98baa3176629aa2",
   "metadata": {},
   "source": [
    "# b)"
   ]
  },
  {
   "cell_type": "code",
   "execution_count": null,
   "id": "5bfadc0c2cbc410a",
   "metadata": {},
   "outputs": [],
   "source": [
    "from distributed_data_processing.haters import Haters\n",
    "\n",
    "movie_haters = Haters(args=['-r', 'inline', 'distributed_data_processing/ratings.csv', '-o', 'distributed_data_processing/haters'])\n",
    "with movie_haters.make_runner() as runner:\n",
    "    runner.run()\n",
    "    # print first ten results\n",
    "    for i, (key, value) in zip(range(10), movie_haters.parse_output(runner.cat_output())):\n",
    "        print(i, key, value)"
   ]
  },
  {
   "cell_type": "markdown",
   "id": "cff5a3df7f7acfbc",
   "metadata": {},
   "source": [
    "# Supplementary\n",
    "To see the actual movie names."
   ]
  },
  {
   "cell_type": "code",
   "execution_count": null,
   "id": "4a1193d8e9867534",
   "metadata": {},
   "outputs": [],
   "source": [
    "from distributed_data_processing.movie_id_to_name import MovieIdToName\n",
    "joining_names = MovieIdToName(args=['-r', 'inline', 'distributed_data_processing/top', '-o', 'distributed_data_processing/top_readable'])\n",
    "with joining_names.make_runner() as runner:\n",
    "    runner.run()\n",
    "    for i, (key, value) in zip(range(10), joining_names.parse_output(runner.cat_output())):\n",
    "        print(value)"
   ]
  }
 ],
 "metadata": {
  "kernelspec": {
   "display_name": "Python 3 (ipykernel)",
   "language": "python",
   "name": "python3"
  },
  "language_info": {
   "codemirror_mode": {
    "name": "ipython",
    "version": 3
   },
   "file_extension": ".py",
   "mimetype": "text/x-python",
   "name": "python",
   "nbconvert_exporter": "python",
   "pygments_lexer": "ipython3",
   "version": "3.12.8"
  }
 },
 "nbformat": 4,
 "nbformat_minor": 5
}
