{
 "cells": [
  {
   "cell_type": "markdown",
   "source": [
    "# Notebook for Part 1 - Exploration and Preprocessing"
   ],
   "metadata": {
    "collapsed": false
   },
   "id": "64f3d826b41d4c13"
  },
  {
   "cell_type": "code",
   "source": [
    "# Import Matplotlib and Seaborn for visualization\n",
    "import matplotlib.pyplot as plt\n",
    "import numpy as np\n",
    "\n",
    "# Import Pandas and NumPy functionality for editing data\n",
    "import pandas as pd\n",
    "import seaborn as sns\n",
    "\n",
    "# Importing IPython display for visualizing intermediate results in the notebook\n",
    "from IPython.display import display"
   ],
   "metadata": {
    "collapsed": false
   },
   "id": "cd53080c13a9807d",
   "outputs": [],
   "execution_count": null
  },
  {
   "cell_type": "markdown",
   "source": [
    "# 1.a) Question: Import the log and give shape"
   ],
   "metadata": {
    "collapsed": false
   },
   "id": "c0d68fdedac9ff50"
  },
  {
   "cell_type": "code",
   "source": [],
   "metadata": {
    "collapsed": false
   },
   "id": "a247d6edcbd09505",
   "outputs": [],
   "execution_count": null
  },
  {
   "cell_type": "markdown",
   "source": [
    "## 1.b) Question Basic Statistics"
   ],
   "metadata": {
    "collapsed": false
   },
   "id": "d8066841e32230fc"
  },
  {
   "cell_type": "code",
   "source": [],
   "metadata": {
    "collapsed": false
   },
   "id": "a0378bc1a7150d0c",
   "outputs": [],
   "execution_count": null
  },
  {
   "cell_type": "markdown",
   "source": [
    "## 1.c) Question about the interpretation of mean of num\n",
    "(no code)"
   ],
   "metadata": {
    "collapsed": false
   },
   "id": "d1cb9f443467f1b1"
  },
  {
   "cell_type": "markdown",
   "source": [
    "## 1.d) Question: Class imbalance female, male"
   ],
   "metadata": {
    "collapsed": false
   },
   "id": "c2870be8f83e7ba5"
  },
  {
   "cell_type": "code",
   "source": [],
   "metadata": {
    "collapsed": false
   },
   "id": "7d2ef3906215c3d7",
   "outputs": [],
   "execution_count": null
  },
  {
   "cell_type": "markdown",
   "source": [
    "## 1.e) Question: Distribution target feature"
   ],
   "metadata": {
    "collapsed": false
   },
   "id": "1ad433a482226ee5"
  },
  {
   "cell_type": "code",
   "source": [],
   "metadata": {
    "collapsed": false
   },
   "id": "566b4ee6af1c9cc9",
   "outputs": [],
   "execution_count": null
  },
  {
   "cell_type": "markdown",
   "source": [
    "## 1.f) Question: Binning"
   ],
   "metadata": {
    "collapsed": false
   },
   "id": "51c83408f2ec3218"
  },
  {
   "cell_type": "code",
   "source": [],
   "metadata": {
    "collapsed": false
   },
   "id": "9efa2a12a73b0247",
   "outputs": [],
   "execution_count": null
  },
  {
   "cell_type": "markdown",
   "source": [
    "## 1.g) Question: Correlation"
   ],
   "metadata": {
    "collapsed": false
   },
   "id": "e832b122bada6ff6"
  },
  {
   "cell_type": "code",
   "source": [],
   "metadata": {
    "collapsed": false
   },
   "id": "e1b283c5e3b6c0bc",
   "outputs": [],
   "execution_count": null
  },
  {
   "cell_type": "markdown",
   "source": [
    "## 1.h) Question: Correlation"
   ],
   "metadata": {
    "collapsed": false
   },
   "id": "30a5d99094fb3a34"
  },
  {
   "cell_type": "code",
   "source": [],
   "metadata": {
    "collapsed": false
   },
   "id": "3291700a4ddb3432",
   "outputs": [],
   "execution_count": null
  },
  {
   "cell_type": "markdown",
   "source": [
    "## 1.i) Question Boxplot Interpretation\n",
    "(no code)"
   ],
   "metadata": {
    "collapsed": false
   },
   "id": "938635456806a705"
  },
  {
   "cell_type": "markdown",
   "source": [
    "## 1.j) Question: NANs per feature"
   ],
   "metadata": {
    "collapsed": false
   },
   "id": "c2f88b689d89a149"
  },
  {
   "cell_type": "code",
   "source": [],
   "metadata": {
    "collapsed": false
   },
   "id": "e30f4a9d25b11914",
   "outputs": [],
   "execution_count": null
  },
  {
   "cell_type": "markdown",
   "source": [
    "## 1.k) Question: Simple Remove NaNs"
   ],
   "metadata": {
    "collapsed": false
   },
   "id": "b4713e3391ce2453"
  },
  {
   "cell_type": "code",
   "source": [],
   "metadata": {
    "collapsed": false
   },
   "id": "ea464b8e1a11ed6a",
   "outputs": [],
   "execution_count": null
  }
 ],
 "metadata": {
  "kernelspec": {
   "display_name": "Python 3",
   "language": "python",
   "name": "python3"
  },
  "language_info": {
   "codemirror_mode": {
    "name": "ipython",
    "version": 2
   },
   "file_extension": ".py",
   "mimetype": "text/x-python",
   "name": "python",
   "nbconvert_exporter": "python",
   "pygments_lexer": "ipython2",
   "version": "2.7.6"
  }
 },
 "nbformat": 4,
 "nbformat_minor": 5
}
