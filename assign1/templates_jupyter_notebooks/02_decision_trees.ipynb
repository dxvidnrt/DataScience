{
 "cells": [
  {
   "cell_type": "markdown",
   "source": [
    "# Notebook for Part 2 - Decision Trees"
   ],
   "metadata": {
    "collapsed": false
   },
   "id": "6c78f74706aa881f"
  },
  {
   "cell_type": "code",
   "source": [
    "# imports\n",
    "\n",
    "import matplotlib.pyplot as plt\n",
    "import numpy as np\n",
    "\n",
    "# Import Pandas and NumPy functionality for editing data\n",
    "import pandas as pd\n",
    "import seaborn as sns\n",
    "\n",
    "# Importing IPython display for visualizing intermediate results in the notebook\n",
    "from IPython.display import display\n",
    "\n",
    "# decision tree\n",
    "from sklearn import tree\n",
    "from sklearn.tree import plot_tree\n",
    "import matplotlib.pyplot as plt"
   ],
   "metadata": {
    "collapsed": false
   },
   "id": "ea8423d6c6cf3c0f",
   "outputs": [],
   "execution_count": null
  },
  {
   "cell_type": "markdown",
   "source": [
    "Loading the train and test data sets"
   ],
   "metadata": {
    "collapsed": false
   },
   "id": "d28b8ac7c4141cb9"
  },
  {
   "cell_type": "code",
   "source": "",
   "metadata": {
    "collapsed": false
   },
   "id": "fdc8234f77be6c9a",
   "outputs": [],
   "execution_count": null
  },
  {
   "cell_type": "markdown",
   "source": [
    "## 2.a) Question: Base line approach of allways predicting the mode."
   ],
   "metadata": {
    "collapsed": false
   },
   "id": "a35705845f5099fa"
  },
  {
   "cell_type": "code",
   "source": "\n",
   "metadata": {
    "collapsed": false
   },
   "id": "f84e823b6c11fe14",
   "outputs": [],
   "execution_count": null
  },
  {
   "cell_type": "markdown",
   "source": [
    "## 2.b) Creating a decision tree"
   ],
   "metadata": {
    "collapsed": false
   },
   "id": "d1c35b270b434920"
  },
  {
   "cell_type": "code",
   "source": "",
   "metadata": {
    "collapsed": false
   },
   "id": "ff47e51252bf49f7",
   "outputs": [],
   "execution_count": null
  },
  {
   "cell_type": "markdown",
   "source": [
    "## 2.c) Question: Draw a decision tree"
   ],
   "metadata": {
    "collapsed": false
   },
   "id": "36efacac4ee6d0c8"
  },
  {
   "cell_type": "code",
   "source": "",
   "metadata": {
    "collapsed": false
   },
   "id": "c230b6d4c871ae6f",
   "outputs": [],
   "execution_count": null
  },
  {
   "metadata": {},
   "cell_type": "code",
   "source": "",
   "id": "6c68dac42b810eca",
   "outputs": [],
   "execution_count": null
  }
 ],
 "metadata": {
  "kernelspec": {
   "display_name": "Python 3",
   "language": "python",
   "name": "python3"
  },
  "language_info": {
   "codemirror_mode": {
    "name": "ipython",
    "version": 2
   },
   "file_extension": ".py",
   "mimetype": "text/x-python",
   "name": "python",
   "nbconvert_exporter": "python",
   "pygments_lexer": "ipython2",
   "version": "2.7.6"
  }
 },
 "nbformat": 4,
 "nbformat_minor": 5
}
