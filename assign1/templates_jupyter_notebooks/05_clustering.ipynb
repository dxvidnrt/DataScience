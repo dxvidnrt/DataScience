{
 "cells": [
  {
   "cell_type": "code",
   "id": "initial_id",
   "metadata": {
    "collapsed": true
   },
   "source": [
    "import pandas as pd\n",
    "import seaborn as sns\n",
    "from sklearn.cluster import KMeans\n",
    "from sklearn.preprocessing import StandardScaler"
   ],
   "outputs": [],
   "execution_count": null
  },
  {
   "metadata": {},
   "cell_type": "markdown",
   "source": [
    "## Clustering Solutions\n",
    "Add your code here for the clustering question"
   ],
   "id": "806a27ab906abe21"
  },
  {
   "metadata": {},
   "cell_type": "markdown",
   "source": "### (a)",
   "id": "ff59487c529f1ea6"
  },
  {
   "metadata": {},
   "cell_type": "code",
   "outputs": [],
   "execution_count": null,
   "source": "",
   "id": "98daf52ff79f238e"
  },
  {
   "metadata": {},
   "cell_type": "markdown",
   "source": "### (b)",
   "id": "1e2167dbe7eaae91"
  },
  {
   "metadata": {},
   "cell_type": "code",
   "outputs": [],
   "execution_count": null,
   "source": "",
   "id": "f2dab2e73500ff0a"
  },
  {
   "metadata": {},
   "cell_type": "markdown",
   "source": "### (c)",
   "id": "4dff96a31ff0aaeb"
  },
  {
   "metadata": {},
   "cell_type": "code",
   "outputs": [],
   "execution_count": null,
   "source": "",
   "id": "5a8a9656446f4d5d"
  },
  {
   "metadata": {},
   "cell_type": "markdown",
   "source": "### (d)",
   "id": "50f32f2606a21946"
  },
  {
   "metadata": {},
   "cell_type": "code",
   "outputs": [],
   "execution_count": null,
   "source": "",
   "id": "18bc06bc6654891e"
  }
 ],
 "metadata": {
  "kernelspec": {
   "display_name": "Python 3",
   "language": "python",
   "name": "python3"
  },
  "language_info": {
   "codemirror_mode": {
    "name": "ipython",
    "version": 2
   },
   "file_extension": ".py",
   "mimetype": "text/x-python",
   "name": "python",
   "nbconvert_exporter": "python",
   "pygments_lexer": "ipython2",
   "version": "2.7.6"
  }
 },
 "nbformat": 4,
 "nbformat_minor": 5
}
