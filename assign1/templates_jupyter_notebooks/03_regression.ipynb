{
 "cells": [
  {
   "cell_type": "markdown",
   "source": [
    "# Notebook for Part 3 - Regression"
   ],
   "metadata": {
    "collapsed": false
   },
   "id": "b8453476913a9a2c"
  },
  {
   "cell_type": "code",
   "source": [
    "# Import Matplotlib and Seaborn for visualization\n",
    "import matplotlib.pyplot as plt\n",
    "\n",
    "# Import Pandas and NumPy functionality for editing data\n",
    "import pandas as pd\n",
    "import seaborn as sns\n",
    "\n",
    "# Importing IPython display for visualizing intermediate results in the notebook\n",
    "from IPython.display import display\n",
    "\n",
    "# Import Regression\n",
    "from sklearn.linear_model import LogisticRegression"
   ],
   "metadata": {
    "collapsed": false
   },
   "id": "b4923809790bbc53",
   "outputs": [],
   "execution_count": null
  },
  {
   "cell_type": "markdown",
   "source": [
    "## 3.a) Question: Create a logistic regression model and give weights"
   ],
   "metadata": {
    "collapsed": false
   },
   "id": "6bde0616c32bb59d"
  },
  {
   "cell_type": "code",
   "source": "",
   "metadata": {
    "collapsed": false
   },
   "id": "7370b24ac5517218",
   "outputs": [],
   "execution_count": null
  },
  {
   "cell_type": "markdown",
   "source": [
    "## 3.b) Question: Compute error"
   ],
   "metadata": {
    "collapsed": false
   },
   "id": "7d6661fdbc014d4"
  },
  {
   "cell_type": "code",
   "source": "",
   "metadata": {
    "collapsed": false
   },
   "id": "3510c7040b8febba",
   "outputs": [],
   "execution_count": null
  },
  {
   "cell_type": "markdown",
   "source": [
    "## 3.c) Question: Plot thalch over age"
   ],
   "metadata": {
    "collapsed": false
   },
   "id": "d21a9df60d625f4a"
  },
  {
   "cell_type": "code",
   "source": "",
   "metadata": {
    "collapsed": false
   },
   "id": "cf8f3ffe54800062",
   "outputs": [],
   "execution_count": null
  }
 ],
 "metadata": {
  "kernelspec": {
   "display_name": "Python 3",
   "language": "python",
   "name": "python3"
  },
  "language_info": {
   "codemirror_mode": {
    "name": "ipython",
    "version": 2
   },
   "file_extension": ".py",
   "mimetype": "text/x-python",
   "name": "python",
   "nbconvert_exporter": "python",
   "pygments_lexer": "ipython2",
   "version": "2.7.6"
  }
 },
 "nbformat": 4,
 "nbformat_minor": 5
}
